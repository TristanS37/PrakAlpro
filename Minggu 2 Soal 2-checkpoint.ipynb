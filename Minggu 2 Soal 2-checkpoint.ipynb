{
 "cells": [
  {
   "cell_type": "code",
   "execution_count": 1,
   "id": "7b2fc527-64d1-4faa-bc63-14ee6319417e",
   "metadata": {},
   "outputs": [
    {
     "name": "stdin",
     "output_type": "stream",
     "text": [
      "Masukkan nilai x:  10\n"
     ]
    },
    {
     "name": "stdout",
     "output_type": "stream",
     "text": [
      "Hasil dari fungsi f(10) adalah 203.5\n"
     ]
    }
   ],
   "source": [
    "def fungsi_f(x):\n",
    "    \"\"\"\n",
    "    Menghitung hasil dari fungsi f(x) = (2x^3 + 2x + 15) / x.\n",
    "    :param x: Bilangan bulat yang dimasukkan oleh pengguna\n",
    "    :return: Hasil perhitungan fungsi f(x)\n",
    "    \"\"\"\n",
    "    if x == 0:\n",
    "        return \"Tidak terdefinisi (pembagian oleh nol)\"\n",
    "    return (2 * (x ** 3) + 2 * x + 15) / x\n",
    "\n",
    "# Input dari pengguna\n",
    "x = int(input(\"Masukkan nilai x: \"))\n",
    "\n",
    "# Menghitung hasil fungsi f(x)\n",
    "hasil_fungsi = fungsi_f(x)\n",
    "\n",
    "# Menampilkan hasil\n",
    "print(f\"Hasil dari fungsi f({x}) adalah {hasil_fungsi}\")"
   ]
  },
  {
   "cell_type": "code",
   "execution_count": null,
   "id": "b31cd1e8-37c0-4c10-a37e-2e0b1bb1ada6",
   "metadata": {},
   "outputs": [],
   "source": []
  }
 ],
 "metadata": {
  "kernelspec": {
   "display_name": "Python [conda env:base] *",
   "language": "python",
   "name": "conda-base-py"
  },
  "language_info": {
   "codemirror_mode": {
    "name": "ipython",
    "version": 3
   },
   "file_extension": ".py",
   "mimetype": "text/x-python",
   "name": "python",
   "nbconvert_exporter": "python",
   "pygments_lexer": "ipython3",
   "version": "3.12.7"
  }
 },
 "nbformat": 4,
 "nbformat_minor": 5
}
