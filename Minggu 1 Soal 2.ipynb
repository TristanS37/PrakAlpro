{
 "cells": [
  {
   "cell_type": "code",
   "execution_count": 1,
   "id": "39b3d2a1-99ce-4f24-b289-f261d4445828",
   "metadata": {},
   "outputs": [
    {
     "name": "stdout",
     "output_type": "stream",
     "text": [
      "Keuntungan pertama dalam Rupiah: 875000 rupiah\n",
      "Keuntungan pertama dalam Persentase: 5.38 %\n",
      "\n",
      "Setelah membeli 15 gram lagi:\n",
      "Keuntungan setelah harga naik menjadi Rp. 715.000: 1200000 rupiah\n",
      "Keuntungan dalam Persentase: 4.52 %\n"
     ]
    }
   ],
   "source": [
    "# 1. Data awal\n",
    "harga_awal = 650000\n",
    "harga_setelah_beli = 685000\n",
    "harga_terbaru = 715000\n",
    "\n",
    "gram_awal = 25\n",
    "gram_tambahan = 15\n",
    "total_gram = gram_awal + gram_tambahan  # Total 40 gram\n",
    "\n",
    "# 2. Hitung keuntungan pertama\n",
    "selisih_pertama = harga_setelah_beli - harga_awal\n",
    "keuntungan_pertama = selisih_pertama * gram_awal\n",
    "modal_awal = harga_awal * gram_awal\n",
    "persentase_keuntungan_pertama = (keuntungan_pertama / modal_awal) * 100\n",
    "\n",
    "# 3. Tambah pembelian baru\n",
    "modal_tambahan = harga_setelah_beli * gram_tambahan\n",
    "modal_total = modal_awal + modal_tambahan  # Total modal setelah beli lagi\n",
    "\n",
    "# 4. Hitung keuntungan setelah harga naik lagi\n",
    "selisih_kedua = harga_terbaru - harga_setelah_beli\n",
    "keuntungan_kedua = selisih_kedua * total_gram\n",
    "persentase_keuntungan_kedua = (keuntungan_kedua / modal_total) * 100\n",
    "\n",
    "# 5. Cetak hasil\n",
    "print(\"Keuntungan pertama dalam Rupiah:\", keuntungan_pertama, \"rupiah\")\n",
    "print(\"Keuntungan pertama dalam Persentase:\", round(persentase_keuntungan_pertama, 2), \"%\")\n",
    "print(\"\\nSetelah membeli 15 gram lagi:\")\n",
    "print(\"Keuntungan setelah harga naik menjadi Rp. 715.000:\", keuntungan_kedua, \"rupiah\")\n",
    "print(\"Keuntungan dalam Persentase:\", round(persentase_keuntungan_kedua, 2), \"%\")"
   ]
  },
  {
   "cell_type": "code",
   "execution_count": null,
   "id": "8572a5e1-2c49-46ad-9898-cd453fea6f78",
   "metadata": {},
   "outputs": [],
   "source": []
  }
 ],
 "metadata": {
  "kernelspec": {
   "display_name": "Python [conda env:base] *",
   "language": "python",
   "name": "conda-base-py"
  },
  "language_info": {
   "codemirror_mode": {
    "name": "ipython",
    "version": 3
   },
   "file_extension": ".py",
   "mimetype": "text/x-python",
   "name": "python",
   "nbconvert_exporter": "python",
   "pygments_lexer": "ipython3",
   "version": "3.12.7"
  }
 },
 "nbformat": 4,
 "nbformat_minor": 5
}
