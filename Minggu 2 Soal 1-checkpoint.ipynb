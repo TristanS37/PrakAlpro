{
 "cells": [
  {
   "cell_type": "code",
   "execution_count": 1,
   "id": "131e3ec5-967f-4fcd-be6c-59ac1b6320be",
   "metadata": {},
   "outputs": [
    {
     "name": "stdin",
     "output_type": "stream",
     "text": [
      "Masukkan tinggi badan (m):  175\n",
      "Masukkan nilai BMI yang diharapkan:  55\n"
     ]
    },
    {
     "name": "stdout",
     "output_type": "stream",
     "text": [
      "Berat badan yang diperlukan agar memiliki BMI 55.0 adalah 1684375.00 kg\n"
     ]
    }
   ],
   "source": [
    "def hitung_berat_badan(tinggi_m, bmi_target):\n",
    "    \"\"\"\n",
    "    Menghitung berat badan yang diperlukan berdasarkan tinggi badan dan BMI yang diharapkan.\n",
    "    :param tinggi_m: Tinggi badan dalam meter (m)\n",
    "    :param bmi_target: Nilai BMI yang diharapkan\n",
    "    :return: Berat badan yang diperlukan dalam kilogram (kg)\n",
    "    \"\"\"\n",
    "    berat_diperlukan = bmi_target * (tinggi_m ** 2)\n",
    "    return berat_diperlukan\n",
    "\n",
    "# Input dari pengguna\n",
    "tinggi = float(input(\"Masukkan tinggi badan (m): \"))\n",
    "bmi_diinginkan = float(input(\"Masukkan nilai BMI yang diharapkan: \"))\n",
    "\n",
    "# Menghitung berat badan yang diperlukan\n",
    "berat_ideal = hitung_berat_badan(tinggi, bmi_diinginkan)\n",
    "\n",
    "# Menampilkan hasil\n",
    "print(f\"Berat badan yang diperlukan agar memiliki BMI {bmi_diinginkan} adalah {berat_ideal:.2f} kg\")"
   ]
  },
  {
   "cell_type": "code",
   "execution_count": null,
   "id": "f6c75830-b7c7-4df1-b298-526801f2f5bb",
   "metadata": {},
   "outputs": [],
   "source": []
  }
 ],
 "metadata": {
  "kernelspec": {
   "display_name": "Python [conda env:base] *",
   "language": "python",
   "name": "conda-base-py"
  },
  "language_info": {
   "codemirror_mode": {
    "name": "ipython",
    "version": 3
   },
   "file_extension": ".py",
   "mimetype": "text/x-python",
   "name": "python",
   "nbconvert_exporter": "python",
   "pygments_lexer": "ipython3",
   "version": "3.12.7"
  }
 },
 "nbformat": 4,
 "nbformat_minor": 5
}
