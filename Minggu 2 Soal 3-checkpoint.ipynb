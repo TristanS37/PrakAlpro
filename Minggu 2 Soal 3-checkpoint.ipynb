{
 "cells": [
  {
   "cell_type": "code",
   "execution_count": 1,
   "id": "452e8ec9-82a9-4054-a5be-9b028ab50f4b",
   "metadata": {},
   "outputs": [
    {
     "name": "stdin",
     "output_type": "stream",
     "text": [
      "Masukkan gaji per jam:  20.000\n",
      "Masukkan jumlah jam kerja per minggu:  15\n"
     ]
    },
    {
     "name": "stdout",
     "output_type": "stream",
     "text": [
      "Pendapatan sebelum pajak: Rp 1,500.00\n",
      "Pendapatan setelah pajak: Rp 1,290.00\n",
      "Pengeluaran untuk pakaian & aksesoris: Rp 129.00\n",
      "Pengeluaran untuk alat tulis: Rp 12.90\n",
      "Jumlah uang yang disedekahkan: Rp 287.02\n",
      "Jumlah uang untuk anak yatim: Rp 86.11\n",
      "Jumlah uang untuk kaum dhuafa: Rp 200.92\n"
     ]
    }
   ],
   "source": [
    "def hitung_keuangan_budi(gaji_per_jam, jam_per_minggu):\n",
    "    minggu_kerja = 5\n",
    "    pendapatan_kotor = gaji_per_jam * jam_per_minggu * minggu_kerja\n",
    "    \n",
    "    # Menghitung pajak\n",
    "    pajak = 0.14 * pendapatan_kotor\n",
    "    pendapatan_bersih = pendapatan_kotor - pajak\n",
    "    \n",
    "    # Pengeluaran\n",
    "    pakaian_aksesoris = 0.10 * pendapatan_bersih\n",
    "    alat_tulis = 0.01 * pendapatan_bersih\n",
    "    \n",
    "    # Sisa uang setelah pembelian\n",
    "    sisa_uang = pendapatan_bersih - pakaian_aksesoris - alat_tulis\n",
    "    \n",
    "    # Sedekah\n",
    "    sedekah = 0.25 * sisa_uang\n",
    "    anak_yatim = 0.30 * sedekah\n",
    "    kaum_dhuafa = 0.70 * sedekah\n",
    "    \n",
    "    return pendapatan_kotor, pendapatan_bersih, pakaian_aksesoris, alat_tulis, sedekah, anak_yatim, kaum_dhuafa\n",
    "\n",
    "# Input dari pengguna\n",
    "gaji_per_jam = float(input(\"Masukkan gaji per jam: \"))\n",
    "jam_per_minggu = int(input(\"Masukkan jumlah jam kerja per minggu: \"))\n",
    "\n",
    "# Perhitungan\n",
    "hasil = hitung_keuangan_budi(gaji_per_jam, jam_per_minggu)\n",
    "\n",
    "# Menampilkan hasil\n",
    "print(f\"Pendapatan sebelum pajak: Rp {hasil[0]:,.2f}\")\n",
    "print(f\"Pendapatan setelah pajak: Rp {hasil[1]:,.2f}\")\n",
    "print(f\"Pengeluaran untuk pakaian & aksesoris: Rp {hasil[2]:,.2f}\")\n",
    "print(f\"Pengeluaran untuk alat tulis: Rp {hasil[3]:,.2f}\")\n",
    "print(f\"Jumlah uang yang disedekahkan: Rp {hasil[4]:,.2f}\")\n",
    "print(f\"Jumlah uang untuk anak yatim: Rp {hasil[5]:,.2f}\")\n",
    "print(f\"Jumlah uang untuk kaum dhuafa: Rp {hasil[6]:,.2f}\")"
   ]
  },
  {
   "cell_type": "code",
   "execution_count": null,
   "id": "da00088d-fe2d-4349-9f5b-f5a537073e99",
   "metadata": {},
   "outputs": [],
   "source": []
  }
 ],
 "metadata": {
  "kernelspec": {
   "display_name": "Python [conda env:base] *",
   "language": "python",
   "name": "conda-base-py"
  },
  "language_info": {
   "codemirror_mode": {
    "name": "ipython",
    "version": 3
   },
   "file_extension": ".py",
   "mimetype": "text/x-python",
   "name": "python",
   "nbconvert_exporter": "python",
   "pygments_lexer": "ipython3",
   "version": "3.12.7"
  }
 },
 "nbformat": 4,
 "nbformat_minor": 5
}
