{
 "cells": [
  {
   "cell_type": "code",
   "execution_count": 1,
   "id": "2c402d8d-d90f-4ac9-9110-cf14ad91c04a",
   "metadata": {},
   "outputs": [
    {
     "name": "stdout",
     "output_type": "stream",
     "text": [
      "Waktu yang dibutuhkan: 7.27 tahun\n"
     ]
    }
   ],
   "source": [
    "import math\n",
    "\n",
    "# 1. Data awal\n",
    "modal_awal = 200_000_000  # Rp 200 juta\n",
    "target_saldo = 400_000_000  # Rp 400 juta\n",
    "bunga_tahunan = 0.10  # 10% per tahun\n",
    "\n",
    "# 2. Menghitung waktu yang dibutuhkan\n",
    "t = math.log(target_saldo / modal_awal) / math.log(1 + bunga_tahunan)\n",
    "\n",
    "# 3. Cetak hasil (dibulatkan 2 desimal)\n",
    "print(\"Waktu yang dibutuhkan:\", round(t, 2), \"tahun\")\n"
   ]
  },
  {
   "cell_type": "code",
   "execution_count": null,
   "id": "891cbbd1-f867-46f3-b5e2-04269dc1fda7",
   "metadata": {},
   "outputs": [],
   "source": []
  }
 ],
 "metadata": {
  "kernelspec": {
   "display_name": "Python [conda env:base] *",
   "language": "python",
   "name": "conda-base-py"
  },
  "language_info": {
   "codemirror_mode": {
    "name": "ipython",
    "version": 3
   },
   "file_extension": ".py",
   "mimetype": "text/x-python",
   "name": "python",
   "nbconvert_exporter": "python",
   "pygments_lexer": "ipython3",
   "version": "3.12.7"
  }
 },
 "nbformat": 4,
 "nbformat_minor": 5
}
