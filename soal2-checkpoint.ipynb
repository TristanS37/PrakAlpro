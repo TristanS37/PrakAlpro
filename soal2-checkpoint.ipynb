{
 "cells": [
  {
   "cell_type": "code",
   "execution_count": 1,
   "id": "dd281ee8-9307-4a8e-bb30-c23efdd8b0b2",
   "metadata": {},
   "outputs": [
    {
     "name": "stdout",
     "output_type": "stream",
     "text": [
      "Keuntungan pertama: 875000 rupiah\n",
      "Persentase keuntungan pertama: 5.384615384615385 %\n",
      "Keuntungan total setelah pembelian kedua: 2075000 rupiah\n",
      "Persentase keuntungan total: 7.822808671065033 %\n"
     ]
    }
   ],
   "source": [
    "# Harga awal dan harga baru\n",
    "harga_awal = 650000  # Harga beli per gram\n",
    "harga_baru = 685000  # Harga sekarang per gram\n",
    "gram_emas = 25  # Jumlah emas yang dibeli\n",
    "\n",
    "# Hitung keuntungan\n",
    "keuntungan_pertama = (harga_baru - harga_awal) * gram_emas\n",
    "\n",
    "# Hitung persentase keuntungan\n",
    "modal_awal = harga_awal * gram_emas\n",
    "persentase_keuntungan_pertama = (keuntungan_pertama / modal_awal) * 100\n",
    "\n",
    "# Tampilkan hasil\n",
    "print(\"Keuntungan pertama:\", keuntungan_pertama, \"rupiah\")\n",
    "print(\"Persentase keuntungan pertama:\", persentase_keuntungan_pertama, \"%\")\n",
    "\n",
    "\n",
    "# Harga emas setelah pembelian kedua\n",
    "harga_terbaru = 715000  # Harga emas saat ini setelah naik lagi\n",
    "\n",
    "# Tambahan pembelian emas\n",
    "gram_tambahan = 15\n",
    "harga_beli_tambahan = 685000\n",
    "\n",
    "# Total emas sekarang\n",
    "total_gram = gram_emas + gram_tambahan\n",
    "\n",
    "# Modal tambahan\n",
    "modal_tambahan = harga_beli_tambahan * gram_tambahan\n",
    "\n",
    "# Hitung total modal\n",
    "modal_keseluruhan = modal_awal + modal_tambahan\n",
    "\n",
    "# Hitung total keuntungan\n",
    "keuntungan_total = (harga_terbaru * total_gram) - modal_keseluruhan\n",
    "\n",
    "# Hitung persentase keuntungan total\n",
    "persentase_keuntungan_total = (keuntungan_total / modal_keseluruhan) * 100\n",
    "\n",
    "# Tampilkan hasil\n",
    "print(\"Keuntungan total setelah pembelian kedua:\", keuntungan_total, \"rupiah\")\n",
    "print(\"Persentase keuntungan total:\", persentase_keuntungan_total, \"%\")\n"
   ]
  },
  {
   "cell_type": "code",
   "execution_count": null,
   "id": "812eed0b-dbd5-4475-85be-b379e09c2e01",
   "metadata": {},
   "outputs": [],
   "source": []
  }
 ],
 "metadata": {
  "kernelspec": {
   "display_name": "Python [conda env:base] *",
   "language": "python",
   "name": "conda-base-py"
  },
  "language_info": {
   "codemirror_mode": {
    "name": "ipython",
    "version": 3
   },
   "file_extension": ".py",
   "mimetype": "text/x-python",
   "name": "python",
   "nbconvert_exporter": "python",
   "pygments_lexer": "ipython3",
   "version": "3.12.7"
  }
 },
 "nbformat": 4,
 "nbformat_minor": 5
}
